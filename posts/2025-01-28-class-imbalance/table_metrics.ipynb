{
 "cells": [
  {
   "cell_type": "markdown",
   "metadata": {},
   "source": [
    "## Table metrics reproduced"
   ]
  },
  {
   "cell_type": "code",
   "execution_count": null,
   "metadata": {},
   "outputs": [],
   "source": [
    "# data1 = {\n",
    "#     \"\": [\"Predicted -\", \"Predicted +\", \"Metrics\"],\n",
    "#     \"Observed -\": [94, 1, \"TNR: .99\"],\n",
    "#     \"Observed +\": [4, 1, \"TPR: .20\"],\n",
    "#     \"Metrics\": [\"NPV: .96\", \"PPV: .50\", \"ACC: .95\"]\n",
    "# }\n",
    "\n",
    "# data2 = {\n",
    "#     \"\": [\"Predicted -\", \"Predicted +\", \"Metrics\"],\n",
    "#     \"Observed -\": [80, 15, \"TNR: .84\"],\n",
    "#     \"Observed +\": [1, 4, \"TPR: .80\"],\n",
    "#     \"Metrics\": [\"NPV: .99\", \"PPV: .79\", \"ACC: .84\"]\n",
    "# }\n",
    "\n",
    "import pycm.cm as cm\n",
    "import pandas as pd\n",
    "import numpy as np\n",
    "from sklearn.metrics import balanced_accuracy_score\n",
    "\n",
    "data1_matrix = np.array([[94, 1], [4, 1]])  # 94 and 1 are the neg-pos predictions for the observed negative class, 4 and 1 are the neg-pos predictions for the observed positive class\n",
    "data2_matrix = np.array([[80, 15], [1, 4]])\n",
    "cm1 = cm.ConfusionMatrix(matrix = data1_matrix)\n",
    "cm2 = cm.ConfusionMatrix(matrix = data2_matrix)\n",
    "\n",
    "# cm1.class_stat[['TPR', 'PPV', 'F1', 'IBA']]\n",
    "df_cm_stats = pd.DataFrame({\n",
    "    'Metric': ['ACC','NPV', 'PPV', 'TNR', 'TPR', 'F1', 'IBA', 'AUC'],\n",
    "    'cm1': [\n",
    "        cm1.class_stat['ACC'][1],\n",
    "        cm1.class_stat['NPV'][1],\n",
    "        cm1.class_stat['PPV'][1],\n",
    "        cm1.class_stat['TNR'][1],\n",
    "        cm1.class_stat['TPR'][1],\n",
    "        cm1.class_stat['F1'][1],\n",
    "        cm1.class_stat['IBA'][1],\n",
    "        cm1.class_stat['AUC'][1]\n",
    "    ],\n",
    "    'cm2': [\n",
    "        cm2.class_stat['ACC'][1],\n",
    "        cm2.class_stat['NPV'][1],\n",
    "        cm2.class_stat['PPV'][1],\n",
    "        cm2.class_stat['TNR'][1],\n",
    "        cm2.class_stat['TPR'][1],\n",
    "        cm2.class_stat['F1'][1],\n",
    "        cm2.class_stat['IBA'][1],\n",
    "        cm2.class_stat['AUC'][1]\n",
    "    ]\n",
    "})\n",
    "df_cm_stats.round(2)\n",
    "# cm1.TPR[1], cm2.TPR[1]\n",
    "# cm1.PPV[1], cm2.PPV[1]\n",
    "# cm1.F1[1], cm2.F1[1]\n",
    "# cm1.IBA[1], cm2.IBA[1]\n"
   ]
  }
 ],
 "metadata": {
  "language_info": {
   "name": "python"
  }
 },
 "nbformat": 4,
 "nbformat_minor": 2
}
